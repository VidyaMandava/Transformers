{
  "nbformat": 4,
  "nbformat_minor": 0,
  "metadata": {
    "colab": {
      "provenance": []
    },
    "kernelspec": {
      "name": "python3",
      "display_name": "Python 3"
    },
    "language_info": {
      "name": "python"
    }
  },
  "cells": [
    {
      "cell_type": "code",
      "execution_count": 1,
      "metadata": {
        "id": "b5e2oYz5dBwc"
      },
      "outputs": [],
      "source": [
        "import torch\n",
        "import torch.nn as nn"
      ]
    },
    {
      "cell_type": "code",
      "source": [
        "class PositionwiseFeedForward(nn.Module):\n",
        "    def __init__(self, d_model, d_ff):\n",
        "        super(PositionwiseFeedForward, self).__init__()\n",
        "        self.fc1 = nn.Linear(d_model, d_ff)  # Expand\n",
        "        self.relu = nn.ReLU()\n",
        "        self.fc2 = nn.Linear(d_ff, d_model)  # Project back\n",
        "\n",
        "    def forward(self, x):\n",
        "        return self.fc2(self.relu(self.fc1(x)))"
      ],
      "metadata": {
        "id": "CS_s9bZcdS2H"
      },
      "execution_count": 2,
      "outputs": []
    },
    {
      "cell_type": "code",
      "source": [
        "# Example usage\n",
        "d_model = 512\n",
        "d_ff = 2048  # Typically 4× d_model\n",
        "ffn = PositionwiseFeedForward(d_model, d_ff)\n",
        "\n",
        "x = torch.rand(10, 512)  # Example input (10 tokens, d_model=512)\n",
        "output = ffn(x)\n",
        "print(output)  # Output shape (10, 512)"
      ],
      "metadata": {
        "colab": {
          "base_uri": "https://localhost:8080/"
        },
        "id": "ZQOerY0Pdht_",
        "outputId": "3b1ebcce-6882-4cbb-fa55-8af20b9fb2fa"
      },
      "execution_count": 4,
      "outputs": [
        {
          "output_type": "stream",
          "name": "stdout",
          "text": [
            "tensor([[-0.0140, -0.0780,  0.0807,  ...,  0.0331, -0.0060,  0.1444],\n",
            "        [-0.0301,  0.0771,  0.1713,  ..., -0.0496, -0.1455,  0.1267],\n",
            "        [-0.0414, -0.0062, -0.0364,  ..., -0.0090, -0.1260,  0.0603],\n",
            "        ...,\n",
            "        [-0.0394,  0.1156,  0.0494,  ...,  0.0434, -0.0313,  0.2406],\n",
            "        [ 0.0890, -0.0004, -0.0023,  ...,  0.1297, -0.0617,  0.1276],\n",
            "        [-0.0395, -0.0169,  0.0165,  ...,  0.0922, -0.1106,  0.1037]],\n",
            "       grad_fn=<AddmmBackward0>)\n"
          ]
        }
      ]
    },
    {
      "cell_type": "code",
      "source": [],
      "metadata": {
        "id": "2tailUNudrAR"
      },
      "execution_count": null,
      "outputs": []
    }
  ]
}